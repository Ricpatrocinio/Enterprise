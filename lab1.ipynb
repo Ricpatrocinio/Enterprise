{
 "cells": [
  {
   "cell_type": "code",
   "execution_count": 1,
   "id": "b3bc2c47",
   "metadata": {},
   "outputs": [],
   "source": [
    "def add(a, b):\n",
    "    return a + b\n",
    "\n",
    "def subtract(a, b):\n",
    "    return a - b\n",
    "\n",
    "def multiply(a, b):\n",
    "    return a * b\n",
    "\n",
    "def divide(a, b):\n",
    "    if b != 0:\n",
    "        return a / b\n",
    "    else:\n",
    "        return \"Cannot divide by zero\""
   ]
  },
  {
   "cell_type": "code",
   "execution_count": 2,
   "id": "823b1c99",
   "metadata": {},
   "outputs": [
    {
     "name": "stdout",
     "output_type": "stream",
     "text": [
      "Add:  8\n",
      "Subtract:  2\n",
      "Multiply:  15\n",
      "Divide:  1.6666666666666667\n"
     ]
    }
   ],
   "source": [
    "if __name__ == \"__main__\":\n",
    "    print(\"Add: \", add(5, 3))\n",
    "    print(\"Subtract: \", subtract(5, 3))\n",
    "    print(\"Multiply: \", multiply(5, 3))\n",
    "    print(\"Divide: \", divide(5, 3))"
   ]
  },
  {
   "cell_type": "code",
   "execution_count": null,
   "id": "61f24276",
   "metadata": {},
   "outputs": [],
   "source": []
  }
 ],
 "metadata": {
  "kernelspec": {
   "display_name": "Python 3 (ipykernel)",
   "language": "python",
   "name": "python3"
  },
  "language_info": {
   "codemirror_mode": {
    "name": "ipython",
    "version": 3
   },
   "file_extension": ".py",
   "mimetype": "text/x-python",
   "name": "python",
   "nbconvert_exporter": "python",
   "pygments_lexer": "ipython3",
   "version": "3.9.12"
  }
 },
 "nbformat": 4,
 "nbformat_minor": 5
}
